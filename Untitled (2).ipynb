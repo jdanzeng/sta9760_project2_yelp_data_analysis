{
 "cells": [
  {
   "cell_type": "markdown",
   "metadata": {},
   "source": [
    "# Analysis of Yelp Business Intelligence Data\n",
    "We will analyze a subset of Yelp's business, reviews and user data. This dataset comes to us from Kaggle although we have taken steps to pull this data into a public s3 bucket: s3://sta9760-yelp-reviews/*business.json"
   ]
  },
  {
   "cell_type": "markdown",
   "metadata": {},
   "source": [
    "# Installation and Initial Setup"
   ]
  },
  {
   "cell_type": "code",
   "execution_count": 5,
   "metadata": {},
   "outputs": [
    {
     "data": {
      "application/vnd.jupyter.widget-view+json": {
       "model_id": "37ed682e270b4e27b638e5b6910e86f0",
       "version_major": 2,
       "version_minor": 0
      },
      "text/plain": [
       "VBox()"
      ]
     },
     "metadata": {},
     "output_type": "display_data"
    },
    {
     "data": {
      "application/vnd.jupyter.widget-view+json": {
       "model_id": "",
       "version_major": 2,
       "version_minor": 0
      },
      "text/plain": [
       "FloatProgress(value=0.0, bar_style='info', description='Progress:', layout=Layout(height='25px', width='50%'),…"
      ]
     },
     "metadata": {},
     "output_type": "display_data"
    },
    {
     "name": "stderr",
     "output_type": "stream",
     "text": [
      "Package already installed for current Spark context!\n",
      "Traceback (most recent call last):\n",
      "  File \"/usr/lib/spark/python/lib/pyspark.zip/pyspark/context.py\", line 1110, in install_pypi_package\n",
      "    raise ValueError(\"Package already installed for current Spark context!\")\n",
      "ValueError: Package already installed for current Spark context!\n",
      "\n"
     ]
    }
   ],
   "source": [
    "sc.install_pypi_package(\"matplotlib==3.2.1\")\n",
    "sc.install_pypi_package(\"pandas==1.0.3\")"
   ]
  },
  {
   "cell_type": "markdown",
   "metadata": {},
   "source": [
    "# Importing"
   ]
  },
  {
   "cell_type": "code",
   "execution_count": 6,
   "metadata": {},
   "outputs": [
    {
     "data": {
      "application/vnd.jupyter.widget-view+json": {
       "model_id": "ac3203f70a5a4790bd1e1de43d2c626c",
       "version_major": 2,
       "version_minor": 0
      },
      "text/plain": [
       "VBox()"
      ]
     },
     "metadata": {},
     "output_type": "display_data"
    },
    {
     "data": {
      "application/vnd.jupyter.widget-view+json": {
       "model_id": "",
       "version_major": 2,
       "version_minor": 0
      },
      "text/plain": [
       "FloatProgress(value=0.0, bar_style='info', description='Progress:', layout=Layout(height='25px', width='50%'),…"
      ]
     },
     "metadata": {},
     "output_type": "display_data"
    }
   ],
   "source": [
    "import pandas as pd\n",
    "import matplotlib.pyplot as plt"
   ]
  },
  {
   "cell_type": "markdown",
   "metadata": {},
   "source": [
    "# Loading Data\n",
    "Using spark load the data from S3 into a dataframe that we can manipulate further in our analysis."
   ]
  },
  {
   "cell_type": "code",
   "execution_count": 7,
   "metadata": {},
   "outputs": [
    {
     "data": {
      "application/vnd.jupyter.widget-view+json": {
       "model_id": "c3d66e03199a4c789022a715da0ddd1e",
       "version_major": 2,
       "version_minor": 0
      },
      "text/plain": [
       "VBox()"
      ]
     },
     "metadata": {},
     "output_type": "display_data"
    },
    {
     "data": {
      "application/vnd.jupyter.widget-view+json": {
       "model_id": "",
       "version_major": 2,
       "version_minor": 0
      },
      "text/plain": [
       "FloatProgress(value=0.0, bar_style='info', description='Progress:', layout=Layout(height='25px', width='50%'),…"
      ]
     },
     "metadata": {},
     "output_type": "display_data"
    }
   ],
   "source": [
    "df = spark.read.json('s3://sta9760-spark/yelp_academic_dataset_business.json')"
   ]
  },
  {
   "cell_type": "markdown",
   "metadata": {},
   "source": [
    "# Overview of Data\n",
    "Display the number of rows and columns in our dataset.\n",
    "\n",
    "Display the DataFrame schema below."
   ]
  },
  {
   "cell_type": "code",
   "execution_count": 8,
   "metadata": {},
   "outputs": [
    {
     "data": {
      "application/vnd.jupyter.widget-view+json": {
       "model_id": "b5935402202e4c5e9d6f4957d0920682",
       "version_major": 2,
       "version_minor": 0
      },
      "text/plain": [
       "VBox()"
      ]
     },
     "metadata": {},
     "output_type": "display_data"
    },
    {
     "data": {
      "application/vnd.jupyter.widget-view+json": {
       "model_id": "",
       "version_major": 2,
       "version_minor": 0
      },
      "text/plain": [
       "FloatProgress(value=0.0, bar_style='info', description='Progress:', layout=Layout(height='25px', width='50%'),…"
      ]
     },
     "metadata": {},
     "output_type": "display_data"
    },
    {
     "name": "stdout",
     "output_type": "stream",
     "text": [
      "Total Columns: 14\n",
      "Total Rows: 209,393\n",
      "root\n",
      " |-- address: string (nullable = true)\n",
      " |-- attributes: struct (nullable = true)\n",
      " |    |-- AcceptsInsurance: string (nullable = true)\n",
      " |    |-- AgesAllowed: string (nullable = true)\n",
      " |    |-- Alcohol: string (nullable = true)\n",
      " |    |-- Ambience: string (nullable = true)\n",
      " |    |-- BYOB: string (nullable = true)\n",
      " |    |-- BYOBCorkage: string (nullable = true)\n",
      " |    |-- BestNights: string (nullable = true)\n",
      " |    |-- BikeParking: string (nullable = true)\n",
      " |    |-- BusinessAcceptsBitcoin: string (nullable = true)\n",
      " |    |-- BusinessAcceptsCreditCards: string (nullable = true)\n",
      " |    |-- BusinessParking: string (nullable = true)\n",
      " |    |-- ByAppointmentOnly: string (nullable = true)\n",
      " |    |-- Caters: string (nullable = true)\n",
      " |    |-- CoatCheck: string (nullable = true)\n",
      " |    |-- Corkage: string (nullable = true)\n",
      " |    |-- DietaryRestrictions: string (nullable = true)\n",
      " |    |-- DogsAllowed: string (nullable = true)\n",
      " |    |-- DriveThru: string (nullable = true)\n",
      " |    |-- GoodForDancing: string (nullable = true)\n",
      " |    |-- GoodForKids: string (nullable = true)\n",
      " |    |-- GoodForMeal: string (nullable = true)\n",
      " |    |-- HairSpecializesIn: string (nullable = true)\n",
      " |    |-- HappyHour: string (nullable = true)\n",
      " |    |-- HasTV: string (nullable = true)\n",
      " |    |-- Music: string (nullable = true)\n",
      " |    |-- NoiseLevel: string (nullable = true)\n",
      " |    |-- Open24Hours: string (nullable = true)\n",
      " |    |-- OutdoorSeating: string (nullable = true)\n",
      " |    |-- RestaurantsAttire: string (nullable = true)\n",
      " |    |-- RestaurantsCounterService: string (nullable = true)\n",
      " |    |-- RestaurantsDelivery: string (nullable = true)\n",
      " |    |-- RestaurantsGoodForGroups: string (nullable = true)\n",
      " |    |-- RestaurantsPriceRange2: string (nullable = true)\n",
      " |    |-- RestaurantsReservations: string (nullable = true)\n",
      " |    |-- RestaurantsTableService: string (nullable = true)\n",
      " |    |-- RestaurantsTakeOut: string (nullable = true)\n",
      " |    |-- Smoking: string (nullable = true)\n",
      " |    |-- WheelchairAccessible: string (nullable = true)\n",
      " |    |-- WiFi: string (nullable = true)\n",
      " |-- business_id: string (nullable = true)\n",
      " |-- categories: string (nullable = true)\n",
      " |-- city: string (nullable = true)\n",
      " |-- hours: struct (nullable = true)\n",
      " |    |-- Friday: string (nullable = true)\n",
      " |    |-- Monday: string (nullable = true)\n",
      " |    |-- Saturday: string (nullable = true)\n",
      " |    |-- Sunday: string (nullable = true)\n",
      " |    |-- Thursday: string (nullable = true)\n",
      " |    |-- Tuesday: string (nullable = true)\n",
      " |    |-- Wednesday: string (nullable = true)\n",
      " |-- is_open: long (nullable = true)\n",
      " |-- latitude: double (nullable = true)\n",
      " |-- longitude: double (nullable = true)\n",
      " |-- name: string (nullable = true)\n",
      " |-- postal_code: string (nullable = true)\n",
      " |-- review_count: long (nullable = true)\n",
      " |-- stars: double (nullable = true)\n",
      " |-- state: string (nullable = true)"
     ]
    }
   ],
   "source": [
    "print(f'Total Columns: {len(df.dtypes)}')\n",
    "print(f'Total Rows: {df.count():,}')\n",
    "df.printSchema()"
   ]
  },
  {
   "cell_type": "code",
   "execution_count": 9,
   "metadata": {},
   "outputs": [
    {
     "data": {
      "application/vnd.jupyter.widget-view+json": {
       "model_id": "222128d535064014aae0a6f11acf0f56",
       "version_major": 2,
       "version_minor": 0
      },
      "text/plain": [
       "VBox()"
      ]
     },
     "metadata": {},
     "output_type": "display_data"
    },
    {
     "data": {
      "application/vnd.jupyter.widget-view+json": {
       "model_id": "",
       "version_major": 2,
       "version_minor": 0
      },
      "text/plain": [
       "FloatProgress(value=0.0, bar_style='info', description='Progress:', layout=Layout(height='25px', width='50%'),…"
      ]
     },
     "metadata": {},
     "output_type": "display_data"
    },
    {
     "name": "stdout",
     "output_type": "stream",
     "text": [
      "+--------------------+--------------------+---------------+-----+--------------------+\n",
      "|         business_id|                name|           city|state|          categories|\n",
      "+--------------------+--------------------+---------------+-----+--------------------+\n",
      "|f9NumwFMBDn751xgF...|The Range At Lake...|      Cornelius|   NC|Active Life, Gun/...|\n",
      "|Yzvjg0SayhoZgCljU...|   Carlos Santo, NMD|     Scottsdale|   AZ|Health & Medical,...|\n",
      "|XNoUzKckATkOD1hP6...|             Felinus|       Montreal|   QC|Pets, Pet Service...|\n",
      "|6OAZjbxqM5ol29BuH...|Nevada House of Hose|North Las Vegas|   NV|Hardware Stores, ...|\n",
      "|51M2Kk903DFYI6gnB...|USE MY GUY SERVIC...|           Mesa|   AZ|Home Services, Pl...|\n",
      "+--------------------+--------------------+---------------+-----+--------------------+"
     ]
    }
   ],
   "source": [
    "df.createOrReplaceTempView(\"business_data\")\n",
    "sqldf = spark.sql(\n",
    "'''\n",
    "SELECT business_id,name,city,state,categories FROM business_data\n",
    "limit 5\n",
    "'''\n",
    ")\n",
    "sqldf.show()"
   ]
  },
  {
   "cell_type": "markdown",
   "metadata": {},
   "source": [
    "# Analyzing Categories\n",
    "how many unique categories are represented in this dataset?\n",
    "\n",
    "What are the top 20 most popular categories available?"
   ]
  },
  {
   "cell_type": "markdown",
   "metadata": {},
   "source": [
    "# Association Table\n",
    "We need to \"break out\" these categories from the business ids. One common approach to take is to build an association table mapping a single business id multiple times to each distinct category.\n",
    "\n",
    "What this does is allow us to then perform a myriad of rollups and other analysis on this association table which can aid us in answering the questions asked above.\n",
    "\n",
    "Implement the code necessary to derive the table described from your original yelp dataframe."
   ]
  },
  {
   "cell_type": "code",
   "execution_count": 24,
   "metadata": {},
   "outputs": [
    {
     "data": {
      "application/vnd.jupyter.widget-view+json": {
       "model_id": "4bc3b576736346d78305b15c0d74befe",
       "version_major": 2,
       "version_minor": 0
      },
      "text/plain": [
       "VBox()"
      ]
     },
     "metadata": {},
     "output_type": "display_data"
    },
    {
     "data": {
      "application/vnd.jupyter.widget-view+json": {
       "model_id": "",
       "version_major": 2,
       "version_minor": 0
      },
      "text/plain": [
       "FloatProgress(value=0.0, bar_style='info', description='Progress:', layout=Layout(height='25px', width='50%'),…"
      ]
     },
     "metadata": {},
     "output_type": "display_data"
    },
    {
     "name": "stdout",
     "output_type": "stream",
     "text": [
      "+--------------------+--------------------+\n",
      "|         business_id|          categories|\n",
      "+--------------------+--------------------+\n",
      "|f9NumwFMBDn751xgF...|         Active Life|\n",
      "|f9NumwFMBDn751xgF...|    Gun/Rifle Ranges|\n",
      "|f9NumwFMBDn751xgF...|         Guns & Ammo|\n",
      "|f9NumwFMBDn751xgF...|            Shopping|\n",
      "|Yzvjg0SayhoZgCljU...|    Health & Medical|\n",
      "|Yzvjg0SayhoZgCljU...|Fitness & Instruc...|\n",
      "|Yzvjg0SayhoZgCljU...|                Yoga|\n",
      "|Yzvjg0SayhoZgCljU...|         Active Life|\n",
      "|Yzvjg0SayhoZgCljU...|             Pilates|\n",
      "|XNoUzKckATkOD1hP6...|                Pets|\n",
      "|XNoUzKckATkOD1hP6...|        Pet Services|\n",
      "|XNoUzKckATkOD1hP6...|        Pet Groomers|\n",
      "|6OAZjbxqM5ol29BuH...|     Hardware Stores|\n",
      "|6OAZjbxqM5ol29BuH...|       Home Services|\n",
      "|6OAZjbxqM5ol29BuH...|   Building Supplies|\n",
      "|6OAZjbxqM5ol29BuH...|       Home & Garden|\n",
      "|6OAZjbxqM5ol29BuH...|            Shopping|\n",
      "|51M2Kk903DFYI6gnB...|       Home Services|\n",
      "|51M2Kk903DFYI6gnB...|            Plumbing|\n",
      "|51M2Kk903DFYI6gnB...|        Electricians|\n",
      "+--------------------+--------------------+\n",
      "only showing top 20 rows"
     ]
    }
   ],
   "source": [
    "import pyspark.sql.functions as f\n",
    "subset = df.select(['business_id', 'categories'])\n",
    "association_table = subset.select(\"business_id\", f.explode(f.split(\"categories\", \", \")).alias(\"categories\"))\n",
    "association_table.show()"
   ]
  },
  {
   "cell_type": "markdown",
   "metadata": {},
   "source": [
    "# Total Unique Categories"
   ]
  },
  {
   "cell_type": "code",
   "execution_count": 25,
   "metadata": {},
   "outputs": [
    {
     "data": {
      "application/vnd.jupyter.widget-view+json": {
       "model_id": "da1b90b9fde448d18c54fbb3523f93bf",
       "version_major": 2,
       "version_minor": 0
      },
      "text/plain": [
       "VBox()"
      ]
     },
     "metadata": {},
     "output_type": "display_data"
    },
    {
     "data": {
      "application/vnd.jupyter.widget-view+json": {
       "model_id": "",
       "version_major": 2,
       "version_minor": 0
      },
      "text/plain": [
       "FloatProgress(value=0.0, bar_style='info', description='Progress:', layout=Layout(height='25px', width='50%'),…"
      ]
     },
     "metadata": {},
     "output_type": "display_data"
    },
    {
     "name": "stdout",
     "output_type": "stream",
     "text": [
      "1336"
     ]
    }
   ],
   "source": [
    "association_table.select(\"categories\").distinct().count()"
   ]
  },
  {
   "cell_type": "markdown",
   "metadata": {},
   "source": [
    "# Top Categories By Business\n",
    "Counts of Businesses / Category"
   ]
  },
  {
   "cell_type": "code",
   "execution_count": 44,
   "metadata": {
    "scrolled": true
   },
   "outputs": [
    {
     "data": {
      "application/vnd.jupyter.widget-view+json": {
       "model_id": "5b7fe66c5e9e4c39bb1bfb42492f1e90",
       "version_major": 2,
       "version_minor": 0
      },
      "text/plain": [
       "VBox()"
      ]
     },
     "metadata": {},
     "output_type": "display_data"
    },
    {
     "data": {
      "application/vnd.jupyter.widget-view+json": {
       "model_id": "",
       "version_major": 2,
       "version_minor": 0
      },
      "text/plain": [
       "FloatProgress(value=0.0, bar_style='info', description='Progress:', layout=Layout(height='25px', width='50%'),…"
      ]
     },
     "metadata": {},
     "output_type": "display_data"
    },
    {
     "name": "stdout",
     "output_type": "stream",
     "text": [
      "+-------------------+------+\n",
      "|         categories|number|\n",
      "+-------------------+------+\n",
      "|     Dermatologists|   341|\n",
      "|   Historical Tours|    54|\n",
      "|Mobile Home Dealers|    16|\n",
      "|     Paddleboarding|    36|\n",
      "|   Hot Air Balloons|    21|\n",
      "|       Aerial Tours|    28|\n",
      "|      Skating Rinks|   104|\n",
      "|  Signature Cuisine|     1|\n",
      "|             Fondue|    54|\n",
      "|      Data Recovery|   195|\n",
      "|  Pet Waste Removal|    34|\n",
      "|      Videographers|   169|\n",
      "|    Pet Photography|    49|\n",
      "|        Boat Repair|   100|\n",
      "|            Beaches|    74|\n",
      "|       Contract Law|    13|\n",
      "|        Hobby Shops|   828|\n",
      "|           Day Spas|  2880|\n",
      "|              Reiki|   312|\n",
      "|           Honduran|     8|\n",
      "+-------------------+------+\n",
      "only showing top 20 rows"
     ]
    }
   ],
   "source": [
    "association_table.createOrReplaceTempView('Count_Categories')\n",
    "count_categories = spark.sql(\n",
    "'''\n",
    "SELECT categories, COUNT (categories) as number FROM Count_Categories\n",
    "GROUP BY categories\n",
    "'''\n",
    ")\n",
    "count_categories.show()"
   ]
  },
  {
   "cell_type": "markdown",
   "metadata": {},
   "source": [
    "# Bar Chart of Top Categories\n",
    "With this data available, let us now build a barchart of the top 20 categories."
   ]
  },
  {
   "cell_type": "code",
   "execution_count": 46,
   "metadata": {
    "scrolled": true
   },
   "outputs": [
    {
     "data": {
      "application/vnd.jupyter.widget-view+json": {
       "model_id": "db8834f6c0624687aefa39fc45577c20",
       "version_major": 2,
       "version_minor": 0
      },
      "text/plain": [
       "VBox()"
      ]
     },
     "metadata": {},
     "output_type": "display_data"
    },
    {
     "data": {
      "application/vnd.jupyter.widget-view+json": {
       "model_id": "",
       "version_major": 2,
       "version_minor": 0
      },
      "text/plain": [
       "FloatProgress(value=0.0, bar_style='info', description='Progress:', layout=Layout(height='25px', width='50%'),…"
      ]
     },
     "metadata": {},
     "output_type": "display_data"
    },
    {
     "name": "stdout",
     "output_type": "stream",
     "text": [
      "+--------------------+------+\n",
      "|          categories|number|\n",
      "+--------------------+------+\n",
      "|         Restaurants| 63944|\n",
      "|            Shopping| 34644|\n",
      "|                Food| 32991|\n",
      "|       Home Services| 22487|\n",
      "|       Beauty & Spas| 20520|\n",
      "|    Health & Medical| 19227|\n",
      "|      Local Services| 15783|\n",
      "|          Automotive| 14720|\n",
      "|           Nightlife| 14211|\n",
      "|                Bars| 12400|\n",
      "|Event Planning & ...| 11263|\n",
      "|         Active Life| 10225|\n",
      "|        Coffee & Tea|  8415|\n",
      "|             Fashion|  8374|\n",
      "|           Fast Food|  8106|\n",
      "|          Sandwiches|  8064|\n",
      "|American (Traditi...|  7596|\n",
      "|       Home & Garden|  7331|\n",
      "|         Hair Salons|  7303|\n",
      "|               Pizza|  7302|\n",
      "+--------------------+------+"
     ]
    }
   ],
   "source": [
    "count_categories.createOrReplaceTempView('Categories_bar')\n",
    "\n",
    "categories_top20 = spark.sql(\n",
    "'''\n",
    "SELECT categories, number FROM Categories_bar\n",
    "ORDER BY number DESC\n",
    "LIMIT 20\n",
    "'''\n",
    ") \n",
    "categories_top20.show()"
   ]
  },
  {
   "cell_type": "code",
   "execution_count": 47,
   "metadata": {},
   "outputs": [
    {
     "data": {
      "application/vnd.jupyter.widget-view+json": {
       "model_id": "868f6ea14b5c42308b89ba02b3aab863",
       "version_major": 2,
       "version_minor": 0
      },
      "text/plain": [
       "VBox()"
      ]
     },
     "metadata": {},
     "output_type": "display_data"
    },
    {
     "data": {
      "application/vnd.jupyter.widget-view+json": {
       "model_id": "",
       "version_major": 2,
       "version_minor": 0
      },
      "text/plain": [
       "FloatProgress(value=0.0, bar_style='info', description='Progress:', layout=Layout(height='25px', width='50%'),…"
      ]
     },
     "metadata": {},
     "output_type": "display_data"
    }
   ],
   "source": [
    "import seaborn as sb"
   ]
  },
  {
   "cell_type": "code",
   "execution_count": 57,
   "metadata": {
    "scrolled": true
   },
   "outputs": [
    {
     "data": {
      "application/vnd.jupyter.widget-view+json": {
       "model_id": "5b5172d0df8a436189741b305175d6d4",
       "version_major": 2,
       "version_minor": 0
      },
      "text/plain": [
       "VBox()"
      ]
     },
     "metadata": {},
     "output_type": "display_data"
    },
    {
     "data": {
      "application/vnd.jupyter.widget-view+json": {
       "model_id": "",
       "version_major": 2,
       "version_minor": 0
      },
      "text/plain": [
       "FloatProgress(value=0.0, bar_style='info', description='Progress:', layout=Layout(height='25px', width='50%'),…"
      ]
     },
     "metadata": {},
     "output_type": "display_data"
    },
    {
     "data": {
      "image/png": "[encoded data removed]",
      "text/plain": [
       "<IPython.core.display.Image object>"
      ]
     },
     "metadata": {},
     "output_type": "display_data"
    }
   ],
   "source": [
    "fig, ax = plt.subplots(figsize = (12, 9))\n",
    "plot_data = categories_top20.toPandas()\n",
    "plot = sb.barplot(x = 'number', y = 'categories', data = plot_data)\n",
    "ax.set_title('Top 20 Categories')\n",
    "%matplot plt"
   ]
  },
  {
   "cell_type": "markdown",
   "metadata": {},
   "source": [
    "# Do Yelp Reviews Skew Negative?\n",
    "Oftentimes, it is said that the only people who write a written review are those who are extremely dissatisfied or extremely satisfied with the service received.\n",
    "How true is this really? Let's try and answer this question.\n",
    "Loading User Data\n",
    "Begin by loading the user data set from S3 and printing schema to determine what data is available."
   ]
  },
  {
   "cell_type": "code",
   "execution_count": 58,
   "metadata": {},
   "outputs": [
    {
     "data": {
      "application/vnd.jupyter.widget-view+json": {
       "model_id": "3840231424f849b6befd6a30eae61b4c",
       "version_major": 2,
       "version_minor": 0
      },
      "text/plain": [
       "VBox()"
      ]
     },
     "metadata": {},
     "output_type": "display_data"
    },
    {
     "data": {
      "application/vnd.jupyter.widget-view+json": {
       "model_id": "",
       "version_major": 2,
       "version_minor": 0
      },
      "text/plain": [
       "FloatProgress(value=0.0, bar_style='info', description='Progress:', layout=Layout(height='25px', width='50%'),…"
      ]
     },
     "metadata": {},
     "output_type": "display_data"
    }
   ],
   "source": [
    "df2 = spark.read.json('s3://sta9760-spark/yelp_academic_dataset_review.json')"
   ]
  },
  {
   "cell_type": "code",
   "execution_count": 59,
   "metadata": {},
   "outputs": [
    {
     "data": {
      "application/vnd.jupyter.widget-view+json": {
       "model_id": "d5ee33f4c6bb4150b0a619c30644d755",
       "version_major": 2,
       "version_minor": 0
      },
      "text/plain": [
       "VBox()"
      ]
     },
     "metadata": {},
     "output_type": "display_data"
    },
    {
     "data": {
      "application/vnd.jupyter.widget-view+json": {
       "model_id": "",
       "version_major": 2,
       "version_minor": 0
      },
      "text/plain": [
       "FloatProgress(value=0.0, bar_style='info', description='Progress:', layout=Layout(height='25px', width='50%'),…"
      ]
     },
     "metadata": {},
     "output_type": "display_data"
    },
    {
     "name": "stdout",
     "output_type": "stream",
     "text": [
      "root\n",
      " |-- business_id: string (nullable = true)\n",
      " |-- cool: long (nullable = true)\n",
      " |-- date: string (nullable = true)\n",
      " |-- funny: long (nullable = true)\n",
      " |-- review_id: string (nullable = true)\n",
      " |-- stars: double (nullable = true)\n",
      " |-- text: string (nullable = true)\n",
      " |-- useful: long (nullable = true)\n",
      " |-- user_id: string (nullable = true)"
     ]
    }
   ],
   "source": [
    "df2.printSchema()"
   ]
  },
  {
   "cell_type": "code",
   "execution_count": 60,
   "metadata": {},
   "outputs": [
    {
     "data": {
      "application/vnd.jupyter.widget-view+json": {
       "model_id": "7e4ea24b571c4e32b54a7634a6f04460",
       "version_major": 2,
       "version_minor": 0
      },
      "text/plain": [
       "VBox()"
      ]
     },
     "metadata": {},
     "output_type": "display_data"
    },
    {
     "data": {
      "application/vnd.jupyter.widget-view+json": {
       "model_id": "",
       "version_major": 2,
       "version_minor": 0
      },
      "text/plain": [
       "FloatProgress(value=0.0, bar_style='info', description='Progress:', layout=Layout(height='25px', width='50%'),…"
      ]
     },
     "metadata": {},
     "output_type": "display_data"
    },
    {
     "name": "stdout",
     "output_type": "stream",
     "text": [
      "+--------------------+-----+\n",
      "|         business_id|stars|\n",
      "+--------------------+-----+\n",
      "|-MhfebM0QIsKt87iD...|  2.0|\n",
      "|lbrU8StCq3yDfr-QM...|  1.0|\n",
      "|HQl28KMwrEKHqhFrr...|  5.0|\n",
      "|5JxlZaqCnk1MnbgRi...|  1.0|\n",
      "|IS4cv902ykd8wj1TR...|  4.0|\n",
      "|nlxHRv1zXGT0c0K51...|  5.0|\n",
      "|Pthe4qk5xh4n-ef-9...|  5.0|\n",
      "|FNCJpSn0tL9iqoY3J...|  5.0|\n",
      "|e_BiI4ej1CW1F0EyV...|  5.0|\n",
      "|Ws8V970-mQt2X9CwC...|  4.0|\n",
      "|PA61Rwk3AMwOEXHev...|  5.0|\n",
      "|l-nL4BmhzpZjcavoo...|  4.0|\n",
      "|Naa6E0YU0Wr7jCuCE...|  5.0|\n",
      "|Ns4tjgLfqR1qawGlN...|  5.0|\n",
      "|ZlCSsWS07JulSBIQl...|  5.0|\n",
      "|7Ka9Pd8X9SRHs1D5E...|  1.0|\n",
      "|d4qwVw4PcN-_2mK2o...|  1.0|\n",
      "|oVuZtlCFg_zF090Nh...|  4.0|\n",
      "|_iGvLfEsqDwPUxRUA...|  1.0|\n",
      "|poSV39UqEg-gpESXa...|  3.0|\n",
      "+--------------------+-----+\n",
      "only showing top 20 rows"
     ]
    }
   ],
   "source": [
    "df2.select(['business_id', 'stars']).show()"
   ]
  },
  {
   "cell_type": "markdown",
   "metadata": {},
   "source": [
    "# \n",
    "Now, let's aggregate along the stars column to get a resultant dataframe that displays average stars per business as accumulated by users who took the time to submit a written review."
   ]
  },
  {
   "cell_type": "code",
   "execution_count": 61,
   "metadata": {
    "scrolled": true
   },
   "outputs": [
    {
     "data": {
      "application/vnd.jupyter.widget-view+json": {
       "model_id": "7d5cdca20a8741e58574ee77709d6676",
       "version_major": 2,
       "version_minor": 0
      },
      "text/plain": [
       "VBox()"
      ]
     },
     "metadata": {},
     "output_type": "display_data"
    },
    {
     "data": {
      "application/vnd.jupyter.widget-view+json": {
       "model_id": "",
       "version_major": 2,
       "version_minor": 0
      },
      "text/plain": [
       "FloatProgress(value=0.0, bar_style='info', description='Progress:', layout=Layout(height='25px', width='50%'),…"
      ]
     },
     "metadata": {},
     "output_type": "display_data"
    },
    {
     "name": "stdout",
     "output_type": "stream",
     "text": [
      "+--------------------+------------------+\n",
      "|         business_id|        avg(stars)|\n",
      "+--------------------+------------------+\n",
      "|ATeOjZzE3VOI-RW7F...| 3.433734939759036|\n",
      "|RMjCnixEY5i12Ciqn...|3.5316455696202533|\n",
      "|vbUABNAQI2iwN7v0x...|2.4545454545454546|\n",
      "|VHsNB3pdGVcRgs6C3...| 3.411764705882353|\n",
      "|r-W1HPIZ3V6S2DaXh...| 4.852459016393443|\n",
      "|cKwg6HFaLYXl7Ar0r...|3.6315789473684212|\n",
      "|4lCTd6-EzOuKl4YbH...| 3.935483870967742|\n",
      "|4x8W4quFhhuTZlsoU...|              2.28|\n",
      "|V_maCS_uBRMjqa_BC...|3.3444444444444446|\n",
      "|_Wyo52ijeq3QgcmkI...| 3.142857142857143|\n",
      "|x1fx7C_tc064cFATj...| 3.120967741935484|\n",
      "|aiAYA0SKz-wRDj04g...| 4.302521008403361|\n",
      "|kpbhERZoj1eTDRnMV...| 2.033333333333333|\n",
      "|ipFreSFhjClfNETuM...|               2.6|\n",
      "|juNKWhkMynLaIHK4Y...|3.1666666666666665|\n",
      "|TdefcbsFAj6WXHwlG...|3.3636363636363638|\n",
      "|pK83jG-vw6UykrHkw...| 3.843137254901961|\n",
      "|TIaaQKCaJaWw0Q9m6...|2.2857142857142856|\n",
      "|YYztMMdcudL4xuSF2...|               2.2|\n",
      "|4v6e_afy2uAiQYDq9...|               4.2|\n",
      "+--------------------+------------------+\n",
      "only showing top 20 rows"
     ]
    }
   ],
   "source": [
    "df2.createOrReplaceTempView('Business_stars')\n",
    "\n",
    "avg_stars = spark.sql(\n",
    "'''\n",
    "SELECT business_id, AVG (stars) FROM Business_stars\n",
    "GROUP BY business_id\n",
    "'''\n",
    ")\n",
    "\n",
    "avg_stars.show()"
   ]
  },
  {
   "cell_type": "markdown",
   "metadata": {},
   "source": [
    "# \n",
    "Now the fun part - let's join our two dataframes (reviews and business data) by business_id."
   ]
  },
  {
   "cell_type": "code",
   "execution_count": 80,
   "metadata": {
    "scrolled": true
   },
   "outputs": [
    {
     "data": {
      "application/vnd.jupyter.widget-view+json": {
       "model_id": "d4660e5890204b76a60b29712f5798e3",
       "version_major": 2,
       "version_minor": 0
      },
      "text/plain": [
       "VBox()"
      ]
     },
     "metadata": {},
     "output_type": "display_data"
    },
    {
     "data": {
      "application/vnd.jupyter.widget-view+json": {
       "model_id": "",
       "version_major": 2,
       "version_minor": 0
      },
      "text/plain": [
       "FloatProgress(value=0.0, bar_style='info', description='Progress:', layout=Layout(height='25px', width='50%'),…"
      ]
     },
     "metadata": {},
     "output_type": "display_data"
    },
    {
     "name": "stdout",
     "output_type": "stream",
     "text": [
      "+------------------+-----+--------------------+-------------+-----+\n",
      "|        avg(stars)|stars|                name|         city|state|\n",
      "+------------------+-----+--------------------+-------------+-----+\n",
      "|  4.11784140969163|  4.0|Delmonico Steakhouse|    Las Vegas|   NV|\n",
      "|2.3333333333333335|  2.5|Neo-Paws Internat...|      Toronto|   ON|\n",
      "|             4.375|  4.5| McFarling Law Group|    Las Vegas|   NV|\n",
      "|3.3333333333333335|  3.5|Volvo of Mississauga|  Mississauga|   ON|\n",
      "|               5.0|  5.0|Andre Agassi Coll...|    Las Vegas|   NV|\n",
      "|               5.0|  5.0|Woof Wise Dog Tra...|    Richfield|   OH|\n",
      "|               5.0|  5.0|           Grandiose|      Phoenix|   AZ|\n",
      "|               5.0|  5.0|       The Elf Squad|    Charlotte|   NC|\n",
      "|               3.5|  3.5|           Starbucks|Richmond Hill|   ON|\n",
      "|2.0833333333333335|  2.0|          McDonald's|     Montréal|   QC|\n",
      "|2.6666666666666665|  2.5|The Nail Salon & Spa|       Whitby|   ON|\n",
      "| 2.217391304347826|  2.0|      Coasta Cantina|    Las Vegas|   NV|\n",
      "|               4.0|  4.0|    Daystar Boutique|    Cleveland|   OH|\n",
      "| 3.801418439716312|  4.0|           The Thumb|   Scottsdale|   AZ|\n",
      "|               4.0|  4.0| Western Coffee Shop|      Calgary|   AB|\n",
      "| 4.833333333333333|  5.0|Pure Healthy Cosm...|    Las Vegas|   NV|\n",
      "|               3.0|  3.0| Trendy Wall Designs|    Las Vegas|   NV|\n",
      "| 3.848684210526316|  4.0|Starbuzz Vegas Ho...|    Las Vegas|   NV|\n",
      "|4.4397394136807815|  4.5|         Oven + Vine|      Phoenix|   AZ|\n",
      "| 4.222222222222222|  4.0|       Select Bakery|    East York|   ON|\n",
      "+------------------+-----+--------------------+-------------+-----+\n",
      "only showing top 20 rows"
     ]
    }
   ],
   "source": [
    "review_business = df.select(['stars', 'name', 'city', 'state', 'business_id'])\n",
    "review_business = avg_stars.join(review_business, 'business_id', 'inner').drop('business_id')\n",
    "review_business.show()"
   ]
  },
  {
   "cell_type": "markdown",
   "metadata": {},
   "source": [
    "# \n",
    "Compute a new dataframe that calculates what we will call the skew (for lack of a better word) between the avg stars accumulated from written reviews and the actual star rating of a business (ie: the average of stars given by reviewers who wrote an actual review and reviewers who just provided a star rating).\n",
    "The formula you can use is something like:\n",
    "\n",
    "(row['avg(stars)'] - row['stars']) / row['stars']\n",
    "\n",
    "If the skew is negative, we can interpret that to be: reviewers who left a written response were more dissatisfied than normal. If skew is positive, we can interpret that to be: reviewers who left a written response were more satisfied than normal."
   ]
  },
  {
   "cell_type": "code",
   "execution_count": 82,
   "metadata": {
    "scrolled": true
   },
   "outputs": [
    {
     "data": {
      "application/vnd.jupyter.widget-view+json": {
       "model_id": "124792bbb3c24ba3b33fbcddc9ece35e",
       "version_major": 2,
       "version_minor": 0
      },
      "text/plain": [
       "VBox()"
      ]
     },
     "metadata": {},
     "output_type": "display_data"
    },
    {
     "data": {
      "application/vnd.jupyter.widget-view+json": {
       "model_id": "",
       "version_major": 2,
       "version_minor": 0
      },
      "text/plain": [
       "FloatProgress(value=0.0, bar_style='info', description='Progress:', layout=Layout(height='25px', width='50%'),…"
      ]
     },
     "metadata": {},
     "output_type": "display_data"
    }
   ],
   "source": [
    "review_business = review_business.withColumnRenamed(\"avg(stars)\", \"avgstars\")"
   ]
  },
  {
   "cell_type": "code",
   "execution_count": 89,
   "metadata": {
    "scrolled": true
   },
   "outputs": [
    {
     "data": {
      "application/vnd.jupyter.widget-view+json": {
       "model_id": "cbc9606529114de286af2757463fea19",
       "version_major": 2,
       "version_minor": 0
      },
      "text/plain": [
       "VBox()"
      ]
     },
     "metadata": {},
     "output_type": "display_data"
    },
    {
     "data": {
      "application/vnd.jupyter.widget-view+json": {
       "model_id": "",
       "version_major": 2,
       "version_minor": 0
      },
      "text/plain": [
       "FloatProgress(value=0.0, bar_style='info', description='Progress:', layout=Layout(height='25px', width='50%'),…"
      ]
     },
     "metadata": {},
     "output_type": "display_data"
    },
    {
     "name": "stdout",
     "output_type": "stream",
     "text": [
      "+------------------+-----+--------------------+-------------+-----+--------------------+\n",
      "|          avgstars|stars|                name|         city|state|                skew|\n",
      "+------------------+-----+--------------------+-------------+-----+--------------------+\n",
      "|  4.11784140969163|  4.0|Delmonico Steakhouse|    Las Vegas|   NV|0.029460352422907565|\n",
      "|2.3333333333333335|  2.5|Neo-Paws Internat...|      Toronto|   ON|-0.06666666666666661|\n",
      "|             4.375|  4.5| McFarling Law Group|    Las Vegas|   NV|-0.02777777777777...|\n",
      "|3.3333333333333335|  3.5|Volvo of Mississauga|  Mississauga|   ON|-0.04761904761904...|\n",
      "|               5.0|  5.0|Andre Agassi Coll...|    Las Vegas|   NV|                 0.0|\n",
      "|               5.0|  5.0|Woof Wise Dog Tra...|    Richfield|   OH|                 0.0|\n",
      "|               5.0|  5.0|           Grandiose|      Phoenix|   AZ|                 0.0|\n",
      "|               5.0|  5.0|       The Elf Squad|    Charlotte|   NC|                 0.0|\n",
      "|               3.5|  3.5|           Starbucks|Richmond Hill|   ON|                 0.0|\n",
      "|2.0833333333333335|  2.0|          McDonald's|     Montréal|   QC| 0.04166666666666674|\n",
      "|2.6666666666666665|  2.5|The Nail Salon & Spa|       Whitby|   ON| 0.06666666666666661|\n",
      "| 2.217391304347826|  2.0|      Coasta Cantina|    Las Vegas|   NV| 0.10869565217391308|\n",
      "|               4.0|  4.0|    Daystar Boutique|    Cleveland|   OH|                 0.0|\n",
      "| 3.801418439716312|  4.0|           The Thumb|   Scottsdale|   AZ|-0.04964539007092...|\n",
      "|               4.0|  4.0| Western Coffee Shop|      Calgary|   AB|                 0.0|\n",
      "| 4.833333333333333|  5.0|Pure Healthy Cosm...|    Las Vegas|   NV|-0.03333333333333...|\n",
      "|               3.0|  3.0| Trendy Wall Designs|    Las Vegas|   NV|                 0.0|\n",
      "| 3.848684210526316|  4.0|Starbuzz Vegas Ho...|    Las Vegas|   NV|-0.03782894736842102|\n",
      "|4.4397394136807815|  4.5|         Oven + Vine|      Phoenix|   AZ|-0.01339124140427...|\n",
      "| 4.222222222222222|  4.0|       Select Bakery|    East York|   ON| 0.05555555555555558|\n",
      "+------------------+-----+--------------------+-------------+-----+--------------------+\n",
      "only showing top 20 rows"
     ]
    }
   ],
   "source": [
    "skew = review_business.withColumn('skew', (review_business.avgstars - review_business.stars) / review_business.stars)\n",
    "skew.show()"
   ]
  },
  {
   "cell_type": "markdown",
   "metadata": {},
   "source": [
    "# \n",
    "And finally, graph it!"
   ]
  },
  {
   "cell_type": "code",
   "execution_count": 98,
   "metadata": {},
   "outputs": [
    {
     "data": {
      "application/vnd.jupyter.widget-view+json": {
       "model_id": "b06ae5ae2dca42c8a408d4399bb1d85d",
       "version_major": 2,
       "version_minor": 0
      },
      "text/plain": [
       "VBox()"
      ]
     },
     "metadata": {},
     "output_type": "display_data"
    },
    {
     "data": {
      "application/vnd.jupyter.widget-view+json": {
       "model_id": "",
       "version_major": 2,
       "version_minor": 0
      },
      "text/plain": [
       "FloatProgress(value=0.0, bar_style='info', description='Progress:', layout=Layout(height='25px', width='50%'),…"
      ]
     },
     "metadata": {},
     "output_type": "display_data"
    },
    {
     "data": {
      "image/png": "[encoded data removed]",
      "text/plain": [
       "<IPython.core.display.Image object>"
      ]
     },
     "metadata": {},
     "output_type": "display_data"
    }
   ],
   "source": [
    "fig, ax = plt.subplots()\n",
    "sb.distplot(skew.select('skew').toPandas())\n",
    "ax.set_title('Business Reviews Skew')\n",
    "%matplot plt"
   ]
  },
  {
   "cell_type": "markdown",
   "metadata": {},
   "source": [
    "# \n",
    "The 'skew' basically is normally distribute--Yelp seems like don't skew negative reviews much. "
   ]
  },
  {
   "cell_type": "markdown",
   "metadata": {},
   "source": [
    "# Should the Elite be Trusted?\n",
    "loading the user dataset first"
   ]
  },
  {
   "cell_type": "code",
   "execution_count": 85,
   "metadata": {},
   "outputs": [
    {
     "data": {
      "application/vnd.jupyter.widget-view+json": {
       "model_id": "0fd3caa2ddc44ed79d4022f0ba0487a0",
       "version_major": 2,
       "version_minor": 0
      },
      "text/plain": [
       "VBox()"
      ]
     },
     "metadata": {},
     "output_type": "display_data"
    },
    {
     "data": {
      "application/vnd.jupyter.widget-view+json": {
       "model_id": "",
       "version_major": 2,
       "version_minor": 0
      },
      "text/plain": [
       "FloatProgress(value=0.0, bar_style='info', description='Progress:', layout=Layout(height='25px', width='50%'),…"
      ]
     },
     "metadata": {},
     "output_type": "display_data"
    }
   ],
   "source": [
    "df3 = spark.read.json('s3://sta9760-spark/yelp_academic_dataset_user.json')"
   ]
  },
  {
   "cell_type": "code",
   "execution_count": 86,
   "metadata": {},
   "outputs": [
    {
     "data": {
      "application/vnd.jupyter.widget-view+json": {
       "model_id": "a4c078b4bb6d4277a8dc2364131ab6ec",
       "version_major": 2,
       "version_minor": 0
      },
      "text/plain": [
       "VBox()"
      ]
     },
     "metadata": {},
     "output_type": "display_data"
    },
    {
     "data": {
      "application/vnd.jupyter.widget-view+json": {
       "model_id": "",
       "version_major": 2,
       "version_minor": 0
      },
      "text/plain": [
       "FloatProgress(value=0.0, bar_style='info', description='Progress:', layout=Layout(height='25px', width='50%'),…"
      ]
     },
     "metadata": {},
     "output_type": "display_data"
    },
    {
     "name": "stdout",
     "output_type": "stream",
     "text": [
      "root\n",
      " |-- average_stars: double (nullable = true)\n",
      " |-- compliment_cool: long (nullable = true)\n",
      " |-- compliment_cute: long (nullable = true)\n",
      " |-- compliment_funny: long (nullable = true)\n",
      " |-- compliment_hot: long (nullable = true)\n",
      " |-- compliment_list: long (nullable = true)\n",
      " |-- compliment_more: long (nullable = true)\n",
      " |-- compliment_note: long (nullable = true)\n",
      " |-- compliment_photos: long (nullable = true)\n",
      " |-- compliment_plain: long (nullable = true)\n",
      " |-- compliment_profile: long (nullable = true)\n",
      " |-- compliment_writer: long (nullable = true)\n",
      " |-- cool: long (nullable = true)\n",
      " |-- elite: string (nullable = true)\n",
      " |-- fans: long (nullable = true)\n",
      " |-- friends: string (nullable = true)\n",
      " |-- funny: long (nullable = true)\n",
      " |-- name: string (nullable = true)\n",
      " |-- review_count: long (nullable = true)\n",
      " |-- useful: long (nullable = true)\n",
      " |-- user_id: string (nullable = true)\n",
      " |-- yelping_since: string (nullable = true)"
     ]
    }
   ],
   "source": [
    "df3.printSchema()"
   ]
  },
  {
   "cell_type": "markdown",
   "metadata": {},
   "source": [
    "#\n",
    "let's join our df2, df3 (reviews and user data) by user_id."
   ]
  },
  {
   "cell_type": "code",
   "execution_count": 119,
   "metadata": {},
   "outputs": [
    {
     "data": {
      "application/vnd.jupyter.widget-view+json": {
       "model_id": "806edad58d95477bae1ad675bf81a091",
       "version_major": 2,
       "version_minor": 0
      },
      "text/plain": [
       "VBox()"
      ]
     },
     "metadata": {},
     "output_type": "display_data"
    },
    {
     "data": {
      "application/vnd.jupyter.widget-view+json": {
       "model_id": "",
       "version_major": 2,
       "version_minor": 0
      },
      "text/plain": [
       "FloatProgress(value=0.0, bar_style='info', description='Progress:', layout=Layout(height='25px', width='50%'),…"
      ]
     },
     "metadata": {},
     "output_type": "display_data"
    }
   ],
   "source": [
    "elite = df3.select('user_id', 'elite', 'average_stars')"
   ]
  },
  {
   "cell_type": "code",
   "execution_count": 123,
   "metadata": {},
   "outputs": [
    {
     "data": {
      "application/vnd.jupyter.widget-view+json": {
       "model_id": "34ad4dc070704cf1848a8d847a21d811",
       "version_major": 2,
       "version_minor": 0
      },
      "text/plain": [
       "VBox()"
      ]
     },
     "metadata": {},
     "output_type": "display_data"
    },
    {
     "data": {
      "application/vnd.jupyter.widget-view+json": {
       "model_id": "",
       "version_major": 2,
       "version_minor": 0
      },
      "text/plain": [
       "FloatProgress(value=0.0, bar_style='info', description='Progress:', layout=Layout(height='25px', width='50%'),…"
      ]
     },
     "metadata": {},
     "output_type": "display_data"
    }
   ],
   "source": [
    "join_data = df2.select(['business_id','user_id'])"
   ]
  },
  {
   "cell_type": "code",
   "execution_count": 124,
   "metadata": {
    "scrolled": true
   },
   "outputs": [
    {
     "data": {
      "application/vnd.jupyter.widget-view+json": {
       "model_id": "00d1da9328d241a99f536da4c692ff99",
       "version_major": 2,
       "version_minor": 0
      },
      "text/plain": [
       "VBox()"
      ]
     },
     "metadata": {},
     "output_type": "display_data"
    },
    {
     "data": {
      "application/vnd.jupyter.widget-view+json": {
       "model_id": "",
       "version_major": 2,
       "version_minor": 0
      },
      "text/plain": [
       "FloatProgress(value=0.0, bar_style='info', description='Progress:', layout=Layout(height='25px', width='50%'),…"
      ]
     },
     "metadata": {},
     "output_type": "display_data"
    },
    {
     "name": "stdout",
     "output_type": "stream",
     "text": [
      "+--------------------+--------------------+--------------------+-------------+\n",
      "|             user_id|         business_id|               elite|average_stars|\n",
      "+--------------------+--------------------+--------------------+-------------+\n",
      "|-0Ji0nOyFe-4yo8BK...|pmrHuQiy25xKB86tb...|                    |         3.12|\n",
      "|-0XPr1ilUAfp-yIXZ...|QhwaGi1niDeVEHMRt...|                    |         1.25|\n",
      "|-1KKYzibGPyUX-Mwk...|L772e6l2Yd0DJEyCB...|2011,2012,2013,20...|          4.0|\n",
      "|-1zQA2f_syMAdA04P...|DyYS-JKXlW2PCr_Gt...|                    |         3.29|\n",
      "|-1zQA2f_syMAdA04P...|aNe8ofTYrealxqv7V...|                    |         3.29|\n",
      "|-1zQA2f_syMAdA04P...|5c-b0ALS_DyLvRCGr...|                    |         3.29|\n",
      "|-1zQA2f_syMAdA04P...|fuC3sui68QWg-rqld...|                    |         3.29|\n",
      "|-1zQA2f_syMAdA04P...|sAS4fHDiK8A9a1wEA...|                    |         3.29|\n",
      "|-2G_a0eur5RTmI-vc...|Ueuo4VdUlDFoeHixY...|                    |          4.0|\n",
      "|-2G_a0eur5RTmI-vc...|dLc1d1zwd1Teu2QED...|                    |          4.0|\n",
      "|-2G_a0eur5RTmI-vc...|zMfZLd5_h5W8ZVxTN...|                    |          4.0|\n",
      "|-2G_a0eur5RTmI-vc...|0PVxodALQu-soL5J8...|                    |          4.0|\n",
      "|-2G_a0eur5RTmI-vc...|bGdsMEAf6cijRl-tr...|                    |          4.0|\n",
      "|-2G_a0eur5RTmI-vc...|in39cUCMBRjpwxw7q...|                    |          4.0|\n",
      "|-2Pb5d2WBPtbyGT_b...|HhVmDybpU7L50Kb5A...|                    |         3.29|\n",
      "|-2gEBUGicw7HtLX0K...|zwmps5SXn30g-f5wq...|                    |          5.0|\n",
      "|-2gEBUGicw7HtLX0K...|5I-iocF31dJs2V4mE...|                    |          5.0|\n",
      "|-2gEBUGicw7HtLX0K...|aGA_iSHm9laGTrfPL...|                    |          5.0|\n",
      "|-2gEBUGicw7HtLX0K...|2RsLaIEnNUIzjQyCv...|                    |          5.0|\n",
      "|-2gEBUGicw7HtLX0K...|sR9hPrIaG-J-GLcl4...|                    |          5.0|\n",
      "+--------------------+--------------------+--------------------+-------------+\n",
      "only showing top 20 rows"
     ]
    }
   ],
   "source": [
    "join_data = join_data.join(elite, 'user_id', how = 'inner')\n",
    "join_data.show()"
   ]
  },
  {
   "cell_type": "markdown",
   "metadata": {},
   "source": [
    "# \n",
    "above is the average stars od elite review\n",
    "\n",
    "before we have average stars of each business id "
   ]
  },
  {
   "cell_type": "code",
   "execution_count": 122,
   "metadata": {},
   "outputs": [
    {
     "data": {
      "application/vnd.jupyter.widget-view+json": {
       "model_id": "7e6a6f8de71f48e780dd93dffb925aec",
       "version_major": 2,
       "version_minor": 0
      },
      "text/plain": [
       "VBox()"
      ]
     },
     "metadata": {},
     "output_type": "display_data"
    },
    {
     "data": {
      "application/vnd.jupyter.widget-view+json": {
       "model_id": "",
       "version_major": 2,
       "version_minor": 0
      },
      "text/plain": [
       "FloatProgress(value=0.0, bar_style='info', description='Progress:', layout=Layout(height='25px', width='50%'),…"
      ]
     },
     "metadata": {},
     "output_type": "display_data"
    },
    {
     "name": "stdout",
     "output_type": "stream",
     "text": [
      "+--------------------+------------------+\n",
      "|         business_id|        avg(stars)|\n",
      "+--------------------+------------------+\n",
      "|ATeOjZzE3VOI-RW7F...| 3.433734939759036|\n",
      "|RMjCnixEY5i12Ciqn...|3.5316455696202533|\n",
      "|vbUABNAQI2iwN7v0x...|2.4545454545454546|\n",
      "|VHsNB3pdGVcRgs6C3...| 3.411764705882353|\n",
      "|r-W1HPIZ3V6S2DaXh...| 4.852459016393443|\n",
      "|cKwg6HFaLYXl7Ar0r...|3.6315789473684212|\n",
      "|4lCTd6-EzOuKl4YbH...| 3.935483870967742|\n",
      "|4x8W4quFhhuTZlsoU...|              2.28|\n",
      "|V_maCS_uBRMjqa_BC...|3.3444444444444446|\n",
      "|_Wyo52ijeq3QgcmkI...| 3.142857142857143|\n",
      "|x1fx7C_tc064cFATj...| 3.120967741935484|\n",
      "|aiAYA0SKz-wRDj04g...| 4.302521008403361|\n",
      "|kpbhERZoj1eTDRnMV...| 2.033333333333333|\n",
      "|ipFreSFhjClfNETuM...|               2.6|\n",
      "|juNKWhkMynLaIHK4Y...|3.1666666666666665|\n",
      "|TdefcbsFAj6WXHwlG...|3.3636363636363638|\n",
      "|pK83jG-vw6UykrHkw...| 3.843137254901961|\n",
      "|TIaaQKCaJaWw0Q9m6...|2.2857142857142856|\n",
      "|YYztMMdcudL4xuSF2...|               2.2|\n",
      "|4v6e_afy2uAiQYDq9...|               4.2|\n",
      "+--------------------+------------------+\n",
      "only showing top 20 rows"
     ]
    }
   ],
   "source": [
    "avg_stars.show()"
   ]
  },
  {
   "cell_type": "code",
   "execution_count": 130,
   "metadata": {
    "scrolled": true
   },
   "outputs": [
    {
     "data": {
      "application/vnd.jupyter.widget-view+json": {
       "model_id": "c33df628b79c4d63ad53d3ff0e36797b",
       "version_major": 2,
       "version_minor": 0
      },
      "text/plain": [
       "VBox()"
      ]
     },
     "metadata": {},
     "output_type": "display_data"
    },
    {
     "data": {
      "application/vnd.jupyter.widget-view+json": {
       "model_id": "",
       "version_major": 2,
       "version_minor": 0
      },
      "text/plain": [
       "FloatProgress(value=0.0, bar_style='info', description='Progress:', layout=Layout(height='25px', width='50%'),…"
      ]
     },
     "metadata": {},
     "output_type": "display_data"
    },
    {
     "name": "stdout",
     "output_type": "stream",
     "text": [
      "+--------------------+--------------------+--------------------+-------------+----------------+\n",
      "|         business_id|             user_id|               elite|average_stars|      avg(stars)|\n",
      "+--------------------+--------------------+--------------------+-------------+----------------+\n",
      "|--9e1ONYQuAa-CB_R...|-7hnKm0I8detrDCgs...|                    |         4.14|4.11784140969163|\n",
      "|--9e1ONYQuAa-CB_R...|1rlB-SWvDU5TnDnym...|2012,2013,2014,20...|         3.92|4.11784140969163|\n",
      "|--9e1ONYQuAa-CB_R...|KGcyC9KXloxW_6YMG...| 2012,2013,2014,2015|         3.51|4.11784140969163|\n",
      "|--9e1ONYQuAa-CB_R...|MFaazTdvfJ_aa6coa...|                    |         3.93|4.11784140969163|\n",
      "|--9e1ONYQuAa-CB_R...|jHHRH62tCYNZnh85u...|                    |         3.72|4.11784140969163|\n",
      "|--9e1ONYQuAa-CB_R...|oqTZC9WriodTCby6j...|2013,2014,2015,20...|         3.78|4.11784140969163|\n",
      "|--9e1ONYQuAa-CB_R...|96aWRa-gy1RrsrFQU...| 2009,2011,2015,2016|         3.34|4.11784140969163|\n",
      "|--9e1ONYQuAa-CB_R...|Dfukqmw4z1VvhCg9t...|                    |         3.22|4.11784140969163|\n",
      "|--9e1ONYQuAa-CB_R...|HaqStKX7oqpx5ymDH...| 2008,2009,2010,2011|         3.57|4.11784140969163|\n",
      "|--9e1ONYQuAa-CB_R...|Jbd1x8jj3EgOkQMZ3...| 2015,2016,2017,2018|         3.85|4.11784140969163|\n",
      "|--9e1ONYQuAa-CB_R...|PRTQBfTrUcVClVU2h...|                    |         3.66|4.11784140969163|\n",
      "|--9e1ONYQuAa-CB_R...|jwUStgA7MpCxSE6Wk...|                    |          4.4|4.11784140969163|\n",
      "|--9e1ONYQuAa-CB_R...|7Ek4da_Btvznc4Q4S...|2008,2009,2010,20...|         3.95|4.11784140969163|\n",
      "|--9e1ONYQuAa-CB_R...|7Sv3oaZk0BS3h0JjP...|                    |         3.12|4.11784140969163|\n",
      "|--9e1ONYQuAa-CB_R...|7Sv3oaZk0BS3h0JjP...|                    |         3.12|4.11784140969163|\n",
      "|--9e1ONYQuAa-CB_R...|EoViGKm29pxG3ikAv...|                    |         4.09|4.11784140969163|\n",
      "|--9e1ONYQuAa-CB_R...|KcEfVfc5nTPBDonYj...|2012,2013,2014,20...|          3.8|4.11784140969163|\n",
      "|--9e1ONYQuAa-CB_R...|Pwi_rOVCsaBPWalNE...|                    |         2.32|4.11784140969163|\n",
      "|--9e1ONYQuAa-CB_R...|UvY0E6Wuhv_0Bita5...|           2007,2008|         3.69|4.11784140969163|\n",
      "|--9e1ONYQuAa-CB_R...|VmlShd8k2tq7-O4TV...|2007,2008,2009,20...|         3.88|4.11784140969163|\n",
      "+--------------------+--------------------+--------------------+-------------+----------------+\n",
      "only showing top 20 rows"
     ]
    }
   ],
   "source": [
    "join_data_avg_stars = join_data.join(avg_stars, 'business_id', how = 'inner')\n",
    "join_data_avg_stars.show()"
   ]
  },
  {
   "cell_type": "code",
   "execution_count": null,
   "metadata": {},
   "outputs": [],
   "source": []
  }
 ],
 "metadata": {
  "kernelspec": {
   "display_name": "PySpark",
   "language": "",
   "name": "pysparkkernel"
  },
  "language_info": {
   "codemirror_mode": {
    "name": "python",
    "version": 2
   },
   "mimetype": "text/x-python",
   "name": "pyspark",
   "pygments_lexer": "python2"
  }
 },
 "nbformat": 4,
 "nbformat_minor": 4
}
